{
  "nbformat": 4,
  "nbformat_minor": 0,
  "metadata": {
    "colab": {
      "provenance": [],
      "authorship_tag": "ABX9TyNlIaOOnGy9Cv7UtKfrZeZy",
      "include_colab_link": true
    },
    "kernelspec": {
      "name": "python3",
      "display_name": "Python 3"
    },
    "language_info": {
      "name": "python"
    }
  },
  "cells": [
    {
      "cell_type": "markdown",
      "metadata": {
        "id": "view-in-github",
        "colab_type": "text"
      },
      "source": [
        "<a href=\"https://colab.research.google.com/github/Vanitha2191/social-media-addiction-project/blob/main/EDA_SocialMedia_Addiction.ipynb\" target=\"_parent\"><img src=\"https://colab.research.google.com/assets/colab-badge.svg\" alt=\"Open In Colab\"/></a>"
      ]
    },
    {
      "cell_type": "code",
      "execution_count": null,
      "metadata": {
        "colab": {
          "base_uri": "https://localhost:8080/"
        },
        "id": "DALjCOyG5lwp",
        "outputId": "3869c6bd-9aad-4cd7-b491-a83229c1e303"
      },
      "outputs": [
        {
          "output_type": "stream",
          "name": "stdout",
          "text": [
            "Requirement already satisfied: pandas in /usr/local/lib/python3.11/dist-packages (2.2.2)\n",
            "Requirement already satisfied: numpy in /usr/local/lib/python3.11/dist-packages (2.0.2)\n",
            "Requirement already satisfied: matplotlib in /usr/local/lib/python3.11/dist-packages (3.10.0)\n",
            "Requirement already satisfied: seaborn in /usr/local/lib/python3.11/dist-packages (0.13.2)\n",
            "Requirement already satisfied: python-dateutil>=2.8.2 in /usr/local/lib/python3.11/dist-packages (from pandas) (2.9.0.post0)\n",
            "Requirement already satisfied: pytz>=2020.1 in /usr/local/lib/python3.11/dist-packages (from pandas) (2025.2)\n",
            "Requirement already satisfied: tzdata>=2022.7 in /usr/local/lib/python3.11/dist-packages (from pandas) (2025.2)\n",
            "Requirement already satisfied: contourpy>=1.0.1 in /usr/local/lib/python3.11/dist-packages (from matplotlib) (1.3.2)\n",
            "Requirement already satisfied: cycler>=0.10 in /usr/local/lib/python3.11/dist-packages (from matplotlib) (0.12.1)\n",
            "Requirement already satisfied: fonttools>=4.22.0 in /usr/local/lib/python3.11/dist-packages (from matplotlib) (4.58.4)\n",
            "Requirement already satisfied: kiwisolver>=1.3.1 in /usr/local/lib/python3.11/dist-packages (from matplotlib) (1.4.8)\n",
            "Requirement already satisfied: packaging>=20.0 in /usr/local/lib/python3.11/dist-packages (from matplotlib) (24.2)\n",
            "Requirement already satisfied: pillow>=8 in /usr/local/lib/python3.11/dist-packages (from matplotlib) (11.2.1)\n",
            "Requirement already satisfied: pyparsing>=2.3.1 in /usr/local/lib/python3.11/dist-packages (from matplotlib) (3.2.3)\n",
            "Requirement already satisfied: six>=1.5 in /usr/local/lib/python3.11/dist-packages (from python-dateutil>=2.8.2->pandas) (1.17.0)\n"
          ]
        }
      ],
      "source": [
        "pip install pandas numpy matplotlib seaborn\n"
      ]
    },
    {
      "cell_type": "code",
      "source": [
        "from google.colab import files\n",
        "uploaded = files.upload()\n",
        "\n",
        "import pandas as pd\n",
        "import io\n",
        "\n",
        "df = pd.read_csv(io.BytesIO(uploaded['Students Social Media Addiction.csv']))\n",
        "print(df.head())\n"
      ],
      "metadata": {
        "colab": {
          "base_uri": "https://localhost:8080/",
          "height": 541
        },
        "id": "x2oQKpIi7nCJ",
        "outputId": "a0f99de4-2ce5-4855-c212-efeb90c156a3"
      },
      "execution_count": null,
      "outputs": [
        {
          "output_type": "display_data",
          "data": {
            "text/plain": [
              "<IPython.core.display.HTML object>"
            ],
            "text/html": [
              "\n",
              "     <input type=\"file\" id=\"files-680186c0-3e0b-47ca-ae4f-b439b401c953\" name=\"files[]\" multiple disabled\n",
              "        style=\"border:none\" />\n",
              "     <output id=\"result-680186c0-3e0b-47ca-ae4f-b439b401c953\">\n",
              "      Upload widget is only available when the cell has been executed in the\n",
              "      current browser session. Please rerun this cell to enable.\n",
              "      </output>\n",
              "      <script>// Copyright 2017 Google LLC\n",
              "//\n",
              "// Licensed under the Apache License, Version 2.0 (the \"License\");\n",
              "// you may not use this file except in compliance with the License.\n",
              "// You may obtain a copy of the License at\n",
              "//\n",
              "//      http://www.apache.org/licenses/LICENSE-2.0\n",
              "//\n",
              "// Unless required by applicable law or agreed to in writing, software\n",
              "// distributed under the License is distributed on an \"AS IS\" BASIS,\n",
              "// WITHOUT WARRANTIES OR CONDITIONS OF ANY KIND, either express or implied.\n",
              "// See the License for the specific language governing permissions and\n",
              "// limitations under the License.\n",
              "\n",
              "/**\n",
              " * @fileoverview Helpers for google.colab Python module.\n",
              " */\n",
              "(function(scope) {\n",
              "function span(text, styleAttributes = {}) {\n",
              "  const element = document.createElement('span');\n",
              "  element.textContent = text;\n",
              "  for (const key of Object.keys(styleAttributes)) {\n",
              "    element.style[key] = styleAttributes[key];\n",
              "  }\n",
              "  return element;\n",
              "}\n",
              "\n",
              "// Max number of bytes which will be uploaded at a time.\n",
              "const MAX_PAYLOAD_SIZE = 100 * 1024;\n",
              "\n",
              "function _uploadFiles(inputId, outputId) {\n",
              "  const steps = uploadFilesStep(inputId, outputId);\n",
              "  const outputElement = document.getElementById(outputId);\n",
              "  // Cache steps on the outputElement to make it available for the next call\n",
              "  // to uploadFilesContinue from Python.\n",
              "  outputElement.steps = steps;\n",
              "\n",
              "  return _uploadFilesContinue(outputId);\n",
              "}\n",
              "\n",
              "// This is roughly an async generator (not supported in the browser yet),\n",
              "// where there are multiple asynchronous steps and the Python side is going\n",
              "// to poll for completion of each step.\n",
              "// This uses a Promise to block the python side on completion of each step,\n",
              "// then passes the result of the previous step as the input to the next step.\n",
              "function _uploadFilesContinue(outputId) {\n",
              "  const outputElement = document.getElementById(outputId);\n",
              "  const steps = outputElement.steps;\n",
              "\n",
              "  const next = steps.next(outputElement.lastPromiseValue);\n",
              "  return Promise.resolve(next.value.promise).then((value) => {\n",
              "    // Cache the last promise value to make it available to the next\n",
              "    // step of the generator.\n",
              "    outputElement.lastPromiseValue = value;\n",
              "    return next.value.response;\n",
              "  });\n",
              "}\n",
              "\n",
              "/**\n",
              " * Generator function which is called between each async step of the upload\n",
              " * process.\n",
              " * @param {string} inputId Element ID of the input file picker element.\n",
              " * @param {string} outputId Element ID of the output display.\n",
              " * @return {!Iterable<!Object>} Iterable of next steps.\n",
              " */\n",
              "function* uploadFilesStep(inputId, outputId) {\n",
              "  const inputElement = document.getElementById(inputId);\n",
              "  inputElement.disabled = false;\n",
              "\n",
              "  const outputElement = document.getElementById(outputId);\n",
              "  outputElement.innerHTML = '';\n",
              "\n",
              "  const pickedPromise = new Promise((resolve) => {\n",
              "    inputElement.addEventListener('change', (e) => {\n",
              "      resolve(e.target.files);\n",
              "    });\n",
              "  });\n",
              "\n",
              "  const cancel = document.createElement('button');\n",
              "  inputElement.parentElement.appendChild(cancel);\n",
              "  cancel.textContent = 'Cancel upload';\n",
              "  const cancelPromise = new Promise((resolve) => {\n",
              "    cancel.onclick = () => {\n",
              "      resolve(null);\n",
              "    };\n",
              "  });\n",
              "\n",
              "  // Wait for the user to pick the files.\n",
              "  const files = yield {\n",
              "    promise: Promise.race([pickedPromise, cancelPromise]),\n",
              "    response: {\n",
              "      action: 'starting',\n",
              "    }\n",
              "  };\n",
              "\n",
              "  cancel.remove();\n",
              "\n",
              "  // Disable the input element since further picks are not allowed.\n",
              "  inputElement.disabled = true;\n",
              "\n",
              "  if (!files) {\n",
              "    return {\n",
              "      response: {\n",
              "        action: 'complete',\n",
              "      }\n",
              "    };\n",
              "  }\n",
              "\n",
              "  for (const file of files) {\n",
              "    const li = document.createElement('li');\n",
              "    li.append(span(file.name, {fontWeight: 'bold'}));\n",
              "    li.append(span(\n",
              "        `(${file.type || 'n/a'}) - ${file.size} bytes, ` +\n",
              "        `last modified: ${\n",
              "            file.lastModifiedDate ? file.lastModifiedDate.toLocaleDateString() :\n",
              "                                    'n/a'} - `));\n",
              "    const percent = span('0% done');\n",
              "    li.appendChild(percent);\n",
              "\n",
              "    outputElement.appendChild(li);\n",
              "\n",
              "    const fileDataPromise = new Promise((resolve) => {\n",
              "      const reader = new FileReader();\n",
              "      reader.onload = (e) => {\n",
              "        resolve(e.target.result);\n",
              "      };\n",
              "      reader.readAsArrayBuffer(file);\n",
              "    });\n",
              "    // Wait for the data to be ready.\n",
              "    let fileData = yield {\n",
              "      promise: fileDataPromise,\n",
              "      response: {\n",
              "        action: 'continue',\n",
              "      }\n",
              "    };\n",
              "\n",
              "    // Use a chunked sending to avoid message size limits. See b/62115660.\n",
              "    let position = 0;\n",
              "    do {\n",
              "      const length = Math.min(fileData.byteLength - position, MAX_PAYLOAD_SIZE);\n",
              "      const chunk = new Uint8Array(fileData, position, length);\n",
              "      position += length;\n",
              "\n",
              "      const base64 = btoa(String.fromCharCode.apply(null, chunk));\n",
              "      yield {\n",
              "        response: {\n",
              "          action: 'append',\n",
              "          file: file.name,\n",
              "          data: base64,\n",
              "        },\n",
              "      };\n",
              "\n",
              "      let percentDone = fileData.byteLength === 0 ?\n",
              "          100 :\n",
              "          Math.round((position / fileData.byteLength) * 100);\n",
              "      percent.textContent = `${percentDone}% done`;\n",
              "\n",
              "    } while (position < fileData.byteLength);\n",
              "  }\n",
              "\n",
              "  // All done.\n",
              "  yield {\n",
              "    response: {\n",
              "      action: 'complete',\n",
              "    }\n",
              "  };\n",
              "}\n",
              "\n",
              "scope.google = scope.google || {};\n",
              "scope.google.colab = scope.google.colab || {};\n",
              "scope.google.colab._files = {\n",
              "  _uploadFiles,\n",
              "  _uploadFilesContinue,\n",
              "};\n",
              "})(self);\n",
              "</script> "
            ]
          },
          "metadata": {}
        },
        {
          "output_type": "stream",
          "name": "stdout",
          "text": [
            "Saving Students Social Media Addiction.csv to Students Social Media Addiction.csv\n",
            "   Student_ID  Age  Gender Academic_Level     Country  Avg_Daily_Usage_Hours  \\\n",
            "0           1   19  Female  Undergraduate  Bangladesh                    5.2   \n",
            "1           2   22    Male       Graduate       India                    2.1   \n",
            "2           3   20  Female  Undergraduate         USA                    6.0   \n",
            "3           4   18    Male    High School          UK                    3.0   \n",
            "4           5   21    Male       Graduate      Canada                    4.5   \n",
            "\n",
            "  Most_Used_Platform Affects_Academic_Performance  Sleep_Hours_Per_Night  \\\n",
            "0          Instagram                          Yes                    6.5   \n",
            "1            Twitter                           No                    7.5   \n",
            "2             TikTok                          Yes                    5.0   \n",
            "3            YouTube                           No                    7.0   \n",
            "4           Facebook                          Yes                    6.0   \n",
            "\n",
            "   Mental_Health_Score Relationship_Status  Conflicts_Over_Social_Media  \\\n",
            "0                    6     In Relationship                            3   \n",
            "1                    8              Single                            0   \n",
            "2                    5         Complicated                            4   \n",
            "3                    7              Single                            1   \n",
            "4                    6     In Relationship                            2   \n",
            "\n",
            "   Addicted_Score  \n",
            "0               8  \n",
            "1               3  \n",
            "2               9  \n",
            "3               4  \n",
            "4               7  \n"
          ]
        }
      ]
    },
    {
      "cell_type": "code",
      "source": [
        "import pandas as pd\n",
        "import numpy as np\n",
        "import matplotlib.pyplot as plt\n",
        "import seaborn as sns\n",
        "\n",
        "# Load the dataset\n",
        "df = pd.read_csv(\"Students Social Media Addiction.csv\")\n",
        "\n",
        "# Display first few rows\n",
        "print(df.head())\n",
        "\n",
        "# Check dataset info\n",
        "print(df.info())\n",
        "\n",
        "# Summary statistics\n",
        "print(df.describe(include='all'))\n"
      ],
      "metadata": {
        "colab": {
          "base_uri": "https://localhost:8080/"
        },
        "id": "O4QNdTvp6SJP",
        "outputId": "17a0dbe9-7b44-4b5f-ad71-cbe25f94a53a"
      },
      "execution_count": null,
      "outputs": [
        {
          "output_type": "stream",
          "name": "stdout",
          "text": [
            "   Student_ID  Age  Gender Academic_Level     Country  Avg_Daily_Usage_Hours  \\\n",
            "0           1   19  Female  Undergraduate  Bangladesh                    5.2   \n",
            "1           2   22    Male       Graduate       India                    2.1   \n",
            "2           3   20  Female  Undergraduate         USA                    6.0   \n",
            "3           4   18    Male    High School          UK                    3.0   \n",
            "4           5   21    Male       Graduate      Canada                    4.5   \n",
            "\n",
            "  Most_Used_Platform Affects_Academic_Performance  Sleep_Hours_Per_Night  \\\n",
            "0          Instagram                          Yes                    6.5   \n",
            "1            Twitter                           No                    7.5   \n",
            "2             TikTok                          Yes                    5.0   \n",
            "3            YouTube                           No                    7.0   \n",
            "4           Facebook                          Yes                    6.0   \n",
            "\n",
            "   Mental_Health_Score Relationship_Status  Conflicts_Over_Social_Media  \\\n",
            "0                    6     In Relationship                            3   \n",
            "1                    8              Single                            0   \n",
            "2                    5         Complicated                            4   \n",
            "3                    7              Single                            1   \n",
            "4                    6     In Relationship                            2   \n",
            "\n",
            "   Addicted_Score  \n",
            "0               8  \n",
            "1               3  \n",
            "2               9  \n",
            "3               4  \n",
            "4               7  \n",
            "<class 'pandas.core.frame.DataFrame'>\n",
            "RangeIndex: 705 entries, 0 to 704\n",
            "Data columns (total 13 columns):\n",
            " #   Column                        Non-Null Count  Dtype  \n",
            "---  ------                        --------------  -----  \n",
            " 0   Student_ID                    705 non-null    int64  \n",
            " 1   Age                           705 non-null    int64  \n",
            " 2   Gender                        705 non-null    object \n",
            " 3   Academic_Level                705 non-null    object \n",
            " 4   Country                       705 non-null    object \n",
            " 5   Avg_Daily_Usage_Hours         705 non-null    float64\n",
            " 6   Most_Used_Platform            705 non-null    object \n",
            " 7   Affects_Academic_Performance  705 non-null    object \n",
            " 8   Sleep_Hours_Per_Night         705 non-null    float64\n",
            " 9   Mental_Health_Score           705 non-null    int64  \n",
            " 10  Relationship_Status           705 non-null    object \n",
            " 11  Conflicts_Over_Social_Media   705 non-null    int64  \n",
            " 12  Addicted_Score                705 non-null    int64  \n",
            "dtypes: float64(2), int64(5), object(6)\n",
            "memory usage: 71.7+ KB\n",
            "None\n",
            "        Student_ID         Age  Gender Academic_Level Country  \\\n",
            "count   705.000000  705.000000     705            705     705   \n",
            "unique         NaN         NaN       2              3     110   \n",
            "top            NaN         NaN  Female  Undergraduate   India   \n",
            "freq           NaN         NaN     353            353      53   \n",
            "mean    353.000000   20.659574     NaN            NaN     NaN   \n",
            "std     203.660256    1.399217     NaN            NaN     NaN   \n",
            "min       1.000000   18.000000     NaN            NaN     NaN   \n",
            "25%     177.000000   19.000000     NaN            NaN     NaN   \n",
            "50%     353.000000   21.000000     NaN            NaN     NaN   \n",
            "75%     529.000000   22.000000     NaN            NaN     NaN   \n",
            "max     705.000000   24.000000     NaN            NaN     NaN   \n",
            "\n",
            "        Avg_Daily_Usage_Hours Most_Used_Platform Affects_Academic_Performance  \\\n",
            "count              705.000000                705                          705   \n",
            "unique                    NaN                 12                            2   \n",
            "top                       NaN          Instagram                          Yes   \n",
            "freq                      NaN                249                          453   \n",
            "mean                 4.918723                NaN                          NaN   \n",
            "std                  1.257395                NaN                          NaN   \n",
            "min                  1.500000                NaN                          NaN   \n",
            "25%                  4.100000                NaN                          NaN   \n",
            "50%                  4.800000                NaN                          NaN   \n",
            "75%                  5.800000                NaN                          NaN   \n",
            "max                  8.500000                NaN                          NaN   \n",
            "\n",
            "        Sleep_Hours_Per_Night  Mental_Health_Score Relationship_Status  \\\n",
            "count              705.000000           705.000000                 705   \n",
            "unique                    NaN                  NaN                   3   \n",
            "top                       NaN                  NaN              Single   \n",
            "freq                      NaN                  NaN                 384   \n",
            "mean                 6.868936             6.226950                 NaN   \n",
            "std                  1.126848             1.105055                 NaN   \n",
            "min                  3.800000             4.000000                 NaN   \n",
            "25%                  6.000000             5.000000                 NaN   \n",
            "50%                  6.900000             6.000000                 NaN   \n",
            "75%                  7.700000             7.000000                 NaN   \n",
            "max                  9.600000             9.000000                 NaN   \n",
            "\n",
            "        Conflicts_Over_Social_Media  Addicted_Score  \n",
            "count                    705.000000      705.000000  \n",
            "unique                          NaN             NaN  \n",
            "top                             NaN             NaN  \n",
            "freq                            NaN             NaN  \n",
            "mean                       2.849645        6.436879  \n",
            "std                        0.957968        1.587165  \n",
            "min                        0.000000        2.000000  \n",
            "25%                        2.000000        5.000000  \n",
            "50%                        3.000000        7.000000  \n",
            "75%                        4.000000        8.000000  \n",
            "max                        5.000000        9.000000  \n"
          ]
        }
      ]
    },
    {
      "cell_type": "code",
      "source": [
        "# Check for missing values\n",
        "print(df.isnull().sum())\n",
        "\n",
        "# Check for duplicates\n",
        "print(\"Duplicates:\", df.duplicated().sum())\n",
        "\n",
        "# Drop duplicates if any\n",
        "df = df.drop_duplicates()\n"
      ],
      "metadata": {
        "colab": {
          "base_uri": "https://localhost:8080/"
        },
        "id": "YRDaIbMP7_5H",
        "outputId": "0f89f34b-3c30-4f57-f7d8-1623feefe7aa"
      },
      "execution_count": null,
      "outputs": [
        {
          "output_type": "stream",
          "name": "stdout",
          "text": [
            "Student_ID                      0\n",
            "Age                             0\n",
            "Gender                          0\n",
            "Academic_Level                  0\n",
            "Country                         0\n",
            "Avg_Daily_Usage_Hours           0\n",
            "Most_Used_Platform              0\n",
            "Affects_Academic_Performance    0\n",
            "Sleep_Hours_Per_Night           0\n",
            "Mental_Health_Score             0\n",
            "Relationship_Status             0\n",
            "Conflicts_Over_Social_Media     0\n",
            "Addicted_Score                  0\n",
            "dtype: int64\n",
            "Duplicates: 0\n"
          ]
        }
      ]
    },
    {
      "cell_type": "code",
      "source": [
        "# Gender distribution\n",
        "print(df['Gender'].value_counts())\n",
        "\n",
        "# Mean addiction level by gender\n",
        "print(df.groupby(\"Gender\")[\"Addicted_Score\"].mean())\n",
        "\n",
        "# Correlation between time spent and addiction level\n",
        "print(df[['Avg_Daily_Usage_Hours', 'Addicted_Score']].corr())\n",
        "\n",
        "# NumPy: Calculate average addiction level\n",
        "addiction_array = df['Addicted_Score'].to_numpy()\n",
        "print(\"Mean addiction level (NumPy):\", np.mean(addiction_array))"
      ],
      "metadata": {
        "colab": {
          "base_uri": "https://localhost:8080/"
        },
        "id": "Pi29aTAb8N79",
        "outputId": "0d2679a2-d3dd-4fbd-edf4-bca155449eac"
      },
      "execution_count": null,
      "outputs": [
        {
          "output_type": "stream",
          "name": "stdout",
          "text": [
            "Gender\n",
            "Female    353\n",
            "Male      352\n",
            "Name: count, dtype: int64\n",
            "Gender\n",
            "Female    6.515581\n",
            "Male      6.357955\n",
            "Name: Addicted_Score, dtype: float64\n",
            "                       Avg_Daily_Usage_Hours  Addicted_Score\n",
            "Avg_Daily_Usage_Hours                  1.000           0.832\n",
            "Addicted_Score                         0.832           1.000\n",
            "Mean addiction level (NumPy): 6.436879432624114\n"
          ]
        }
      ]
    },
    {
      "cell_type": "code",
      "source": [
        "import seaborn as sns\n",
        "import matplotlib.pyplot as plt\n",
        "\n",
        "# Distribution of Addicted Score\n",
        "sns.histplot(df['Addicted_Score'], kde=True)\n",
        "plt.title(\"Distribution of Addicted Score\")\n",
        "plt.xlabel(\"Addicted Score\")\n",
        "plt.ylabel(\"Frequency\")\n",
        "plt.show()\n",
        "\n",
        "# Avg Daily Usage vs Addicted Score\n",
        "sns.scatterplot(x='Avg_Daily_Usage_Hours', y='Addicted_Score', data=df)\n",
        "plt.title(\"Avg Daily Usage Hours vs Addicted Score\")\n",
        "plt.xlabel(\"Avg Daily Usage (Hours)\")\n",
        "plt.ylabel(\"Addicted Score\")\n",
        "plt.show()\n",
        "\n",
        "# Addicted Score by Gender\n",
        "sns.boxplot(x='Gender', y='Addicted_Score', data=df)\n",
        "plt.title(\"Addicted Score by Gender\")\n",
        "plt.xlabel(\"Gender\")\n",
        "plt.ylabel(\"Addicted Score\")\n",
        "plt.show()\n"
      ],
      "metadata": {
        "colab": {
          "base_uri": "https://localhost:8080/",
          "height": 1000
        },
        "id": "5LG6wctg8cte",
        "outputId": "1aaaccca-0021-4d6c-88ba-ed3af3da06dc"
      },
      "execution_count": null,
      "outputs": [
        {
          "output_type": "display_data",
          "data": {
            "text/plain": [
              "<Figure size 640x480 with 1 Axes>"
            ],
            "image/png": "[encoded data removed]"
          },
          "metadata": {}
        },
        {
          "output_type": "display_data",
          "data": {
            "text/plain": [
              "<Figure size 640x480 with 1 Axes>"
            ],
            "image/png": "[encoded data removed]"
          },
          "metadata": {}
        },
        {
          "output_type": "display_data",
          "data": {
            "text/plain": [
              "<Figure size 640x480 with 1 Axes>"
            ],
            "image/png": "[encoded data removed]"
          },
          "metadata": {}
        }
      ]
    },
    {
      "cell_type": "code",
      "source": [
        "avg_score = df['Addicted_Score'].mean()\n",
        "print(f\"Average Addicted Score: {avg_score:.2f}\")\n"
      ],
      "metadata": {
        "colab": {
          "base_uri": "https://localhost:8080/"
        },
        "id": "QGac1Dne9lpN",
        "outputId": "6d7d1047-2912-4fbf-81b9-cc8e955ffdf5"
      },
      "execution_count": null,
      "outputs": [
        {
          "output_type": "stream",
          "name": "stdout",
          "text": [
            "Average Addicted Score: 6.44\n"
          ]
        }
      ]
    },
    {
      "cell_type": "code",
      "source": [
        "correlation = df[['Avg_Daily_Usage_Hours', 'Addicted_Score']].corr()\n",
        "print(\"Correlation Matrix:\\n\", correlation)\n"
      ],
      "metadata": {
        "colab": {
          "base_uri": "https://localhost:8080/"
        },
        "id": "WER3OlIi9npx",
        "outputId": "25598d18-c2ae-4386-b10c-39ac6a79e2b0"
      },
      "execution_count": null,
      "outputs": [
        {
          "output_type": "stream",
          "name": "stdout",
          "text": [
            "Correlation Matrix:\n",
            "                        Avg_Daily_Usage_Hours  Addicted_Score\n",
            "Avg_Daily_Usage_Hours                  1.000           0.832\n",
            "Addicted_Score                         0.832           1.000\n"
          ]
        }
      ]
    },
    {
      "cell_type": "code",
      "source": [
        "gender_avg = df.groupby('Gender')['Addicted_Score'].mean()\n",
        "print(\"Average Addicted Score by Gender:\\n\", gender_avg)\n"
      ],
      "metadata": {
        "colab": {
          "base_uri": "https://localhost:8080/"
        },
        "id": "suvDKE2u9ryK",
        "outputId": "8c8b8e38-ce5f-4ffc-f9ae-f3dba2c704c8"
      },
      "execution_count": null,
      "outputs": [
        {
          "output_type": "stream",
          "name": "stdout",
          "text": [
            "Average Addicted Score by Gender:\n",
            " Gender\n",
            "Female    6.515581\n",
            "Male      6.357955\n",
            "Name: Addicted_Score, dtype: float64\n"
          ]
        }
      ]
    },
    {
      "cell_type": "code",
      "source": [
        "if 'Age' in df.columns:\n",
        "    sns.scatterplot(x='Age', y='Addicted_Score', data=df)\n",
        "    plt.title(\"Age vs Addicted Score\")\n",
        "    plt.xlabel(\"Age\")\n",
        "    plt.ylabel(\"Addicted Score\")\n",
        "    plt.show()\n"
      ],
      "metadata": {
        "colab": {
          "base_uri": "https://localhost:8080/",
          "height": 472
        },
        "id": "HWKtSqgG9ury",
        "outputId": "2d8aecbd-7fce-4e42-e7cc-9f2e8bd3a275"
      },
      "execution_count": null,
      "outputs": [
        {
          "output_type": "display_data",
          "data": {
            "text/plain": [
              "<Figure size 640x480 with 1 Axes>"
            ],
            "image/png": "[encoded data removed]"
          },
          "metadata": {}
        }
      ]
    },
    {
      "cell_type": "code",
      "source": [
        "# Save analysis to Excel\n",
        "df.to_excel(\"social_media_analysis.xlsx\", index=False)\n",
        "\n",
        "# Download in Colab\n",
        "from google.colab import files\n",
        "files.download(\"social_media_analysis.xlsx\")\n"
      ],
      "metadata": {
        "colab": {
          "base_uri": "https://localhost:8080/",
          "height": 17
        },
        "id": "u1SfGR44-gdE",
        "outputId": "7313a283-fdfa-42cd-fbe4-b37fe3b93cce"
      },
      "execution_count": null,
      "outputs": [
        {
          "output_type": "display_data",
          "data": {
            "text/plain": [
              "<IPython.core.display.Javascript object>"
            ],
            "application/javascript": [
              "\n",
              "    async function download(id, filename, size) {\n",
              "      if (!google.colab.kernel.accessAllowed) {\n",
              "        return;\n",
              "      }\n",
              "      const div = document.createElement('div');\n",
              "      const label = document.createElement('label');\n",
              "      label.textContent = `Downloading \"${filename}\": `;\n",
              "      div.appendChild(label);\n",
              "      const progress = document.createElement('progress');\n",
              "      progress.max = size;\n",
              "      div.appendChild(progress);\n",
              "      document.body.appendChild(div);\n",
              "\n",
              "      const buffers = [];\n",
              "      let downloaded = 0;\n",
              "\n",
              "      const channel = await google.colab.kernel.comms.open(id);\n",
              "      // Send a message to notify the kernel that we're ready.\n",
              "      channel.send({})\n",
              "\n",
              "      for await (const message of channel.messages) {\n",
              "        // Send a message to notify the kernel that we're ready.\n",
              "        channel.send({})\n",
              "        if (message.buffers) {\n",
              "          for (const buffer of message.buffers) {\n",
              "            buffers.push(buffer);\n",
              "            downloaded += buffer.byteLength;\n",
              "            progress.value = downloaded;\n",
              "          }\n",
              "        }\n",
              "      }\n",
              "      const blob = new Blob(buffers, {type: 'application/binary'});\n",
              "      const a = document.createElement('a');\n",
              "      a.href = window.URL.createObjectURL(blob);\n",
              "      a.download = filename;\n",
              "      div.appendChild(a);\n",
              "      a.click();\n",
              "      div.remove();\n",
              "    }\n",
              "  "
            ]
          },
          "metadata": {}
        },
        {
          "output_type": "display_data",
          "data": {
            "text/plain": [
              "<IPython.core.display.Javascript object>"
            ],
            "application/javascript": [
              "download(\"download_b67485ae-c239-49fb-ab0b-ac96ab5ac43f\", \"social_media_analysis.xlsx\", 44703)"
            ]
          },
          "metadata": {}
        }
      ]
    },
    {
      "cell_type": "code",
      "source": [
        "!pip install plotly\n",
        "\n",
        "import plotly.express as px\n",
        "\n",
        "fig = px.scatter(df, x='Avg_Daily_Usage_Hours', y='Addicted_Score', color='Gender',\n",
        "                 title='Daily Usage vs Addiction Score by Gender')\n",
        "fig.show()\n"
      ],
      "metadata": {
        "id": "tm_8pluP-mD4",
        "outputId": "166d7c77-f900-4fb2-bb32-707185b8aa75",
        "colab": {
          "base_uri": "https://localhost:8080/",
          "height": 614
        }
      },
      "execution_count": null,
      "outputs": [
        {
          "output_type": "stream",
          "name": "stdout",
          "text": [
            "Requirement already satisfied: plotly in /usr/local/lib/python3.11/dist-packages (5.24.1)\n",
            "Requirement already satisfied: tenacity>=6.2.0 in /usr/local/lib/python3.11/dist-packages (from plotly) (8.5.0)\n",
            "Requirement already satisfied: packaging in /usr/local/lib/python3.11/dist-packages (from plotly) (24.2)\n"
          ]
        },
        {
          "output_type": "display_data",
          "data": {
            "text/html": [
              "<html>\n",
              "<head><meta charset=\"utf-8\" /></head>\n",
              "<body>\n",
              "    <div>            <script src=\"https://cdnjs.cloudflare.com/ajax/libs/mathjax/2.7.5/MathJax.js?config=TeX-AMS-MML_SVG\"></script><script type=\"text/javascript\">if (window.MathJax && window.MathJax.Hub && window.MathJax.Hub.Config) {window.MathJax.Hub.Config({SVG: {font: \"STIX-Web\"}});}</script>                <script type=\"text/javascript\">window.PlotlyConfig = {MathJaxConfig: 'local'};</script>\n",
              "        <script charset=\"utf-8\" src=\"https://cdn.plot.ly/plotly-2.35.2.min.js\"></script>                <div id=\"1ad6d97a-59f5-4a42-b31b-c48a2cbe0ba2\" class=\"plotly-graph-div\" style=\"height:525px; width:100%;\"></div>            <script type=\"text/javascript\">                                    window.PLOTLYENV=window.PLOTLYENV || {};                                    if (document.getElementById(\"1ad6d97a-59f5-4a42-b31b-c48a2cbe0ba2\")) {                    Plotly.newPlot(                        \"1ad6d97a-59f5-4a42-b31b-c48a2cbe0ba2\",                        [{\"hovertemplate\":\"Gender=Female\\u003cbr\\u003eAvg_Daily_Usage_Hours=%{x}\\u003cbr\\u003eAddicted_Score=%{y}\\u003cextra\\u003e\\u003c\\u002fextra\\u003e\",\"legendgroup\":\"Female\",\"marker\":{\"color\":\"#636efa\",\"symbol\":\"circle\"},\"mode\":\"markers\",\"name\":\"Female\",\"orientation\":\"v\",\"showlegend\":true,\"x\":[5.2,6.0,7.2,5.8,3.3,5.5,6.5,4.2,5.0,4.7,2.5,5.7,6.1,4.4,5.9,4.8,2.6,5.6,6.2,4.5,5.8,4.6,2.7,5.5,6.3,4.7,5.7,4.9,2.8,5.4,5.6,6.1,4.8,5.7,4.5,3.2,5.8,4.6,2.9,5.9,4.8,2.7,4.5,2.6,5.8,4.7,5.5,4.9,2.8,5.4,2.5,5.6,4.8,5.5,4.9,5.8,5.5,4.8,5.7,5.4,4.6,5.8,5.2,4.4,5.6,5.0,4.2,5.4,4.8,4.0,5.2,4.6,3.8,5.0,4.4,3.6,4.8,4.2,3.4,4.6,5.3,5.5,5.1,4.9,5.6,5.0,4.8,5.7,4.9,4.7,5.8,4.8,4.6,5.9,4.7,4.5,6.0,4.6,4.4,6.1,4.5,4.3,6.2,4.4,4.2,6.3,4.3,4.1,6.4,4.2,6.5,4.5,3.8,5.2,7.0,4.7,3.5,5.0,6.8,4.6,3.7,5.1,6.9,4.8,3.6,4.9,6.7,4.4,3.4,5.0,6.6,4.3,3.3,4.8,6.4,4.5,3.2,4.7,6.6,4.4,3.1,4.6,6.7,4.3,3.0,4.5,6.8,4.2,2.9,4.4,6.9,4.1,2.8,4.3,7.0,4.0,2.7,4.2,7.1,3.9,5.2,5.0,4.0,6.8,4.5,5.1,4.8,3.8,6.9,4.4,5.0,4.7,3.7,7.0,4.3,4.9,4.6,3.6,7.1,4.2,4.8,4.5,3.5,7.2,4.1,4.7,4.4,3.4,7.3,4.0,4.6,4.3,3.3,7.4,3.9,4.5,4.2,3.2,7.5,3.8,4.4,4.1,3.1,7.6,3.7,4.3,4.0,3.0,7.7,3.6,4.2,3.9,2.9,7.8,3.5,4.1,3.8,2.8,7.9,3.4,4.0,3.7,2.7,8.0,3.3,3.9,3.6,2.6,8.1,3.2,3.8,3.5,2.5,8.2,3.1,3.7,3.4,2.4,8.3,3.0,3.6,3.3,2.3,8.4,2.9,3.5,3.2,2.2,8.5,2.8,6.2,3.8,5.1,6.5,6.8,6.1,3.7,5.2,6.6,6.9,6.0,3.6,5.3,6.7,7.0,5.9,3.5,5.4,6.8,7.1,5.8,3.4,5.5,6.9,7.2,5.7,3.3,5.6,7.0,7.3,5.6,3.2,5.7,7.1,7.4,6.1,5.5,4.2,5.9,4.7,6.3,6.7,4.5,4.1,4.4,7.0,6.9,6.2,4.9,5.1,5.5,6.2,6.3,5.9,4.4,5.4,4.8,6.1,6.8,4.2,4.4,4.6,7.0,6.7,6.4,5.6,4.8,5.7,6.1,6.4,5.9,4.6,5.3,4.8,6.2,6.8,4.3,4.4,4.6,7.1,6.7,6.4,5.6,4.8,5.7,6.1,6.4,5.9,4.6,5.3,4.7,6.1,6.7,4.2,4.4,4.6,7.0,6.6,6.3,5.7,4.7,5.6,6.2],\"xaxis\":\"x\",\"y\":[8,9,9,8,4,8,9,7,8,7,4,8,9,7,8,7,4,8,9,7,8,7,4,8,9,7,8,7,4,8,8,9,7,8,7,5,8,7,5,9,7,4,7,4,9,7,8,7,4,8,4,8,7,8,7,7,8,5,7,8,5,7,8,5,7,8,5,7,8,5,7,8,5,7,8,5,7,8,5,7,7,8,5,7,8,5,7,8,5,7,8,5,7,8,5,7,8,5,7,8,5,7,8,5,7,8,5,7,8,5,9,5,3,6,9,5,3,6,9,5,3,6,9,5,3,6,9,5,3,6,9,5,3,6,9,5,3,6,9,5,3,6,9,5,3,6,9,5,3,6,9,5,3,6,9,5,3,6,9,5,7,6,4,9,5,7,6,4,9,5,7,6,4,9,5,7,6,4,9,5,7,6,4,9,5,7,6,4,9,5,7,6,4,9,5,7,6,4,9,5,7,6,4,9,5,7,6,4,9,5,7,6,4,9,5,7,6,4,9,5,7,6,4,9,5,7,6,4,9,5,7,6,4,9,5,7,6,4,9,5,7,6,4,9,5,7,6,4,9,5,7,4,7,8,8,7,4,7,8,8,7,4,7,8,8,7,4,7,8,8,7,4,7,8,8,7,4,7,8,8,7,4,7,8,8,7,8,5,7,5,8,8,4,5,5,9,8,8,5,5,7,8,8,7,5,7,5,8,9,4,5,5,9,8,8,7,5,7,8,8,7,5,7,5,8,9,4,5,5,9,8,8,7,5,7,8,8,7,5,7,5,8,9,4,5,5,9,8,8,7,5,7,8],\"yaxis\":\"y\",\"type\":\"scatter\"},{\"hovertemplate\":\"Gender=Male\\u003cbr\\u003eAvg_Daily_Usage_Hours=%{x}\\u003cbr\\u003eAddicted_Score=%{y}\\u003cextra\\u003e\\u003c\\u002fextra\\u003e\",\"legendgroup\":\"Male\",\"marker\":{\"color\":\"#EF553B\",\"symbol\":\"circle\"},\"mode\":\"markers\",\"name\":\"Male\",\"orientation\":\"v\",\"showlegend\":true,\"x\":[2.1,3.0,4.5,1.5,4.0,4.8,2.8,3.7,2.0,3.5,5.3,4.9,3.2,3.8,2.2,3.6,5.4,4.7,3.1,3.9,2.3,3.7,5.5,4.8,3.3,3.8,2.4,3.6,5.6,4.6,3.1,4.2,2.3,3.9,2.8,5.4,4.9,2.5,5.5,4.7,3.0,3.8,5.6,5.3,4.4,2.9,3.7,2.4,5.7,4.6,5.8,4.7,2.9,3.8,2.6,6.1,4.9,5.2,6.0,4.7,5.9,5.3,4.5,5.7,5.1,4.3,5.5,4.9,4.1,5.3,4.7,3.9,5.1,4.5,3.7,4.9,4.3,3.5,4.7,4.1,4.8,4.7,5.4,5.2,4.6,5.3,5.1,4.5,5.2,5.0,4.4,5.1,4.9,4.3,5.0,4.8,4.2,4.9,4.7,4.1,4.8,4.6,4.0,4.7,4.5,3.9,4.6,4.4,3.8,4.5,5.8,4.2,5.5,4.8,5.5,4.0,5.7,4.5,5.6,4.1,5.4,4.7,5.7,3.9,5.6,4.6,5.4,4.0,5.3,4.4,5.3,3.8,5.2,4.3,5.2,3.7,5.4,4.2,5.1,3.6,5.3,4.1,5.0,3.5,5.2,4.0,4.9,3.4,5.1,3.9,4.8,3.3,5.0,3.8,4.7,3.2,4.9,3.7,4.6,3.1,4.1,5.8,5.5,5.6,5.3,3.9,5.9,5.4,5.7,5.2,3.8,6.0,5.3,5.8,5.1,3.7,6.1,5.2,5.9,5.0,3.6,6.2,5.1,6.0,4.9,3.5,6.3,5.0,6.1,4.8,3.4,6.4,4.9,6.2,4.7,3.3,6.5,4.8,6.3,4.6,3.2,6.6,4.7,6.4,4.5,3.1,6.7,4.6,6.5,4.4,3.0,6.8,4.5,6.6,4.3,2.9,6.9,4.4,6.7,4.2,2.8,7.0,4.3,6.8,4.1,2.7,7.1,4.2,6.9,4.0,2.6,7.2,4.1,7.0,3.9,2.5,7.3,4.0,7.1,3.8,2.4,7.4,3.9,7.2,3.7,2.3,7.5,3.8,7.3,3.6,4.5,4.7,5.5,4.2,4.8,4.4,4.6,5.6,4.1,4.7,4.3,4.5,5.7,4.0,4.6,4.2,4.4,5.8,3.9,4.5,4.1,4.3,5.9,3.8,4.4,4.0,4.2,6.0,3.7,4.3,3.9,4.1,6.1,3.6,4.2,3.8,7.2,6.8,6.5,5.2,4.9,5.8,6.4,6.6,5.7,4.3,5.6,5.8,6.4,6.7,4.3,4.5,4.7,7.1,6.6,6.5,5.7,4.6,5.6,6.3,6.5,5.8,4.5,5.5,4.7,6.2,6.9,4.4,4.3,4.5,7.2,6.8,6.3,5.7,4.7,5.6,6.2,6.5,5.8,4.5,5.4,4.7,6.3,6.9,4.4,4.3,4.5,7.2,6.8,6.2,5.8,4.8,5.5,6.3,6.5,5.9,4.5,5.5,4.8,6.2,6.8,4.3],\"xaxis\":\"x\",\"y\":[3,4,7,2,5,7,4,5,3,5,8,7,5,5,3,5,8,7,5,6,4,5,8,7,5,6,4,5,8,7,5,7,3,6,4,8,7,4,8,7,4,6,8,8,7,5,6,4,8,7,9,7,5,6,4,8,5,7,8,5,7,8,5,7,8,5,7,8,5,7,8,5,7,8,5,7,8,5,7,8,6,7,8,6,7,8,6,7,8,6,7,8,6,7,8,6,7,8,6,7,8,6,7,8,6,7,8,6,7,8,7,4,7,5,7,4,8,5,7,4,7,5,7,4,8,5,7,4,7,5,7,4,8,5,7,4,7,5,7,4,8,5,7,4,7,5,7,4,8,5,7,4,7,5,7,4,8,5,7,4,4,8,7,7,7,4,8,7,7,7,4,8,7,7,7,4,8,7,7,7,4,8,7,7,7,4,8,7,7,7,4,8,7,7,7,4,8,7,7,7,4,8,7,7,7,4,8,7,7,7,4,8,7,7,7,4,8,7,7,7,4,8,7,7,7,4,8,7,7,7,4,8,7,7,7,4,8,7,7,7,4,8,7,7,7,4,8,7,7,7,5,6,7,5,6,5,6,7,5,6,5,6,7,5,6,5,6,7,5,6,5,6,7,5,6,5,6,7,5,6,5,6,7,5,6,4,9,8,8,6,5,7,8,8,7,5,7,7,8,8,4,5,5,9,8,8,7,5,7,8,8,7,5,7,5,8,9,4,5,5,9,8,8,7,5,7,8,8,7,5,7,5,8,9,4,5,5,9,8,8,7,5,7,8,8,7,5,7,5,8,9,4],\"yaxis\":\"y\",\"type\":\"scatter\"}],                        {\"template\":{\"data\":{\"histogram2dcontour\":[{\"type\":\"histogram2dcontour\",\"colorbar\":{\"outlinewidth\":0,\"ticks\":\"\"},\"colorscale\":[[0.0,\"#0d0887\"],[0.1111111111111111,\"#46039f\"],[0.2222222222222222,\"#7201a8\"],[0.3333333333333333,\"#9c179e\"],[0.4444444444444444,\"#bd3786\"],[0.5555555555555556,\"#d8576b\"],[0.6666666666666666,\"#ed7953\"],[0.7777777777777778,\"#fb9f3a\"],[0.8888888888888888,\"#fdca26\"],[1.0,\"#f0f921\"]]}],\"choropleth\":[{\"type\":\"choropleth\",\"colorbar\":{\"outlinewidth\":0,\"ticks\":\"\"}}],\"histogram2d\":[{\"type\":\"histogram2d\",\"colorbar\":{\"outlinewidth\":0,\"ticks\":\"\"},\"colorscale\":[[0.0,\"#0d0887\"],[0.1111111111111111,\"#46039f\"],[0.2222222222222222,\"#7201a8\"],[0.3333333333333333,\"#9c179e\"],[0.4444444444444444,\"#bd3786\"],[0.5555555555555556,\"#d8576b\"],[0.6666666666666666,\"#ed7953\"],[0.7777777777777778,\"#fb9f3a\"],[0.8888888888888888,\"#fdca26\"],[1.0,\"#f0f921\"]]}],\"heatmap\":[{\"type\":\"heatmap\",\"colorbar\":{\"outlinewidth\":0,\"ticks\":\"\"},\"colorscale\":[[0.0,\"#0d0887\"],[0.1111111111111111,\"#46039f\"],[0.2222222222222222,\"#7201a8\"],[0.3333333333333333,\"#9c179e\"],[0.4444444444444444,\"#bd3786\"],[0.5555555555555556,\"#d8576b\"],[0.6666666666666666,\"#ed7953\"],[0.7777777777777778,\"#fb9f3a\"],[0.8888888888888888,\"#fdca26\"],[1.0,\"#f0f921\"]]}],\"heatmapgl\":[{\"type\":\"heatmapgl\",\"colorbar\":{\"outlinewidth\":0,\"ticks\":\"\"},\"colorscale\":[[0.0,\"#0d0887\"],[0.1111111111111111,\"#46039f\"],[0.2222222222222222,\"#7201a8\"],[0.3333333333333333,\"#9c179e\"],[0.4444444444444444,\"#bd3786\"],[0.5555555555555556,\"#d8576b\"],[0.6666666666666666,\"#ed7953\"],[0.7777777777777778,\"#fb9f3a\"],[0.8888888888888888,\"#fdca26\"],[1.0,\"#f0f921\"]]}],\"contourcarpet\":[{\"type\":\"contourcarpet\",\"colorbar\":{\"outlinewidth\":0,\"ticks\":\"\"}}],\"contour\":[{\"type\":\"contour\",\"colorbar\":{\"outlinewidth\":0,\"ticks\":\"\"},\"colorscale\":[[0.0,\"#0d0887\"],[0.1111111111111111,\"#46039f\"],[0.2222222222222222,\"#7201a8\"],[0.3333333333333333,\"#9c179e\"],[0.4444444444444444,\"#bd3786\"],[0.5555555555555556,\"#d8576b\"],[0.6666666666666666,\"#ed7953\"],[0.7777777777777778,\"#fb9f3a\"],[0.8888888888888888,\"#fdca26\"],[1.0,\"#f0f921\"]]}],\"surface\":[{\"type\":\"surface\",\"colorbar\":{\"outlinewidth\":0,\"ticks\":\"\"},\"colorscale\":[[0.0,\"#0d0887\"],[0.1111111111111111,\"#46039f\"],[0.2222222222222222,\"#7201a8\"],[0.3333333333333333,\"#9c179e\"],[0.4444444444444444,\"#bd3786\"],[0.5555555555555556,\"#d8576b\"],[0.6666666666666666,\"#ed7953\"],[0.7777777777777778,\"#fb9f3a\"],[0.8888888888888888,\"#fdca26\"],[1.0,\"#f0f921\"]]}],\"mesh3d\":[{\"type\":\"mesh3d\",\"colorbar\":{\"outlinewidth\":0,\"ticks\":\"\"}}],\"scatter\":[{\"fillpattern\":{\"fillmode\":\"overlay\",\"size\":10,\"solidity\":0.2},\"type\":\"scatter\"}],\"parcoords\":[{\"type\":\"parcoords\",\"line\":{\"colorbar\":{\"outlinewidth\":0,\"ticks\":\"\"}}}],\"scatterpolargl\":[{\"type\":\"scatterpolargl\",\"marker\":{\"colorbar\":{\"outlinewidth\":0,\"ticks\":\"\"}}}],\"bar\":[{\"error_x\":{\"color\":\"#2a3f5f\"},\"error_y\":{\"color\":\"#2a3f5f\"},\"marker\":{\"line\":{\"color\":\"#E5ECF6\",\"width\":0.5},\"pattern\":{\"fillmode\":\"overlay\",\"size\":10,\"solidity\":0.2}},\"type\":\"bar\"}],\"scattergeo\":[{\"type\":\"scattergeo\",\"marker\":{\"colorbar\":{\"outlinewidth\":0,\"ticks\":\"\"}}}],\"scatterpolar\":[{\"type\":\"scatterpolar\",\"marker\":{\"colorbar\":{\"outlinewidth\":0,\"ticks\":\"\"}}}],\"histogram\":[{\"marker\":{\"pattern\":{\"fillmode\":\"overlay\",\"size\":10,\"solidity\":0.2}},\"type\":\"histogram\"}],\"scattergl\":[{\"type\":\"scattergl\",\"marker\":{\"colorbar\":{\"outlinewidth\":0,\"ticks\":\"\"}}}],\"scatter3d\":[{\"type\":\"scatter3d\",\"line\":{\"colorbar\":{\"outlinewidth\":0,\"ticks\":\"\"}},\"marker\":{\"colorbar\":{\"outlinewidth\":0,\"ticks\":\"\"}}}],\"scattermapbox\":[{\"type\":\"scattermapbox\",\"marker\":{\"colorbar\":{\"outlinewidth\":0,\"ticks\":\"\"}}}],\"scatterternary\":[{\"type\":\"scatterternary\",\"marker\":{\"colorbar\":{\"outlinewidth\":0,\"ticks\":\"\"}}}],\"scattercarpet\":[{\"type\":\"scattercarpet\",\"marker\":{\"colorbar\":{\"outlinewidth\":0,\"ticks\":\"\"}}}],\"carpet\":[{\"aaxis\":{\"endlinecolor\":\"#2a3f5f\",\"gridcolor\":\"white\",\"linecolor\":\"white\",\"minorgridcolor\":\"white\",\"startlinecolor\":\"#2a3f5f\"},\"baxis\":{\"endlinecolor\":\"#2a3f5f\",\"gridcolor\":\"white\",\"linecolor\":\"white\",\"minorgridcolor\":\"white\",\"startlinecolor\":\"#2a3f5f\"},\"type\":\"carpet\"}],\"table\":[{\"cells\":{\"fill\":{\"color\":\"#EBF0F8\"},\"line\":{\"color\":\"white\"}},\"header\":{\"fill\":{\"color\":\"#C8D4E3\"},\"line\":{\"color\":\"white\"}},\"type\":\"table\"}],\"barpolar\":[{\"marker\":{\"line\":{\"color\":\"#E5ECF6\",\"width\":0.5},\"pattern\":{\"fillmode\":\"overlay\",\"size\":10,\"solidity\":0.2}},\"type\":\"barpolar\"}],\"pie\":[{\"automargin\":true,\"type\":\"pie\"}]},\"layout\":{\"autotypenumbers\":\"strict\",\"colorway\":[\"#636efa\",\"#EF553B\",\"#00cc96\",\"#ab63fa\",\"#FFA15A\",\"#19d3f3\",\"#FF6692\",\"#B6E880\",\"#FF97FF\",\"#FECB52\"],\"font\":{\"color\":\"#2a3f5f\"},\"hovermode\":\"closest\",\"hoverlabel\":{\"align\":\"left\"},\"paper_bgcolor\":\"white\",\"plot_bgcolor\":\"#E5ECF6\",\"polar\":{\"bgcolor\":\"#E5ECF6\",\"angularaxis\":{\"gridcolor\":\"white\",\"linecolor\":\"white\",\"ticks\":\"\"},\"radialaxis\":{\"gridcolor\":\"white\",\"linecolor\":\"white\",\"ticks\":\"\"}},\"ternary\":{\"bgcolor\":\"#E5ECF6\",\"aaxis\":{\"gridcolor\":\"white\",\"linecolor\":\"white\",\"ticks\":\"\"},\"baxis\":{\"gridcolor\":\"white\",\"linecolor\":\"white\",\"ticks\":\"\"},\"caxis\":{\"gridcolor\":\"white\",\"linecolor\":\"white\",\"ticks\":\"\"}},\"coloraxis\":{\"colorbar\":{\"outlinewidth\":0,\"ticks\":\"\"}},\"colorscale\":{\"sequential\":[[0.0,\"#0d0887\"],[0.1111111111111111,\"#46039f\"],[0.2222222222222222,\"#7201a8\"],[0.3333333333333333,\"#9c179e\"],[0.4444444444444444,\"#bd3786\"],[0.5555555555555556,\"#d8576b\"],[0.6666666666666666,\"#ed7953\"],[0.7777777777777778,\"#fb9f3a\"],[0.8888888888888888,\"#fdca26\"],[1.0,\"#f0f921\"]],\"sequentialminus\":[[0.0,\"#0d0887\"],[0.1111111111111111,\"#46039f\"],[0.2222222222222222,\"#7201a8\"],[0.3333333333333333,\"#9c179e\"],[0.4444444444444444,\"#bd3786\"],[0.5555555555555556,\"#d8576b\"],[0.6666666666666666,\"#ed7953\"],[0.7777777777777778,\"#fb9f3a\"],[0.8888888888888888,\"#fdca26\"],[1.0,\"#f0f921\"]],\"diverging\":[[0,\"#8e0152\"],[0.1,\"#c51b7d\"],[0.2,\"#de77ae\"],[0.3,\"#f1b6da\"],[0.4,\"#fde0ef\"],[0.5,\"#f7f7f7\"],[0.6,\"#e6f5d0\"],[0.7,\"#b8e186\"],[0.8,\"#7fbc41\"],[0.9,\"#4d9221\"],[1,\"#276419\"]]},\"xaxis\":{\"gridcolor\":\"white\",\"linecolor\":\"white\",\"ticks\":\"\",\"title\":{\"standoff\":15},\"zerolinecolor\":\"white\",\"automargin\":true,\"zerolinewidth\":2},\"yaxis\":{\"gridcolor\":\"white\",\"linecolor\":\"white\",\"ticks\":\"\",\"title\":{\"standoff\":15},\"zerolinecolor\":\"white\",\"automargin\":true,\"zerolinewidth\":2},\"scene\":{\"xaxis\":{\"backgroundcolor\":\"#E5ECF6\",\"gridcolor\":\"white\",\"linecolor\":\"white\",\"showbackground\":true,\"ticks\":\"\",\"zerolinecolor\":\"white\",\"gridwidth\":2},\"yaxis\":{\"backgroundcolor\":\"#E5ECF6\",\"gridcolor\":\"white\",\"linecolor\":\"white\",\"showbackground\":true,\"ticks\":\"\",\"zerolinecolor\":\"white\",\"gridwidth\":2},\"zaxis\":{\"backgroundcolor\":\"#E5ECF6\",\"gridcolor\":\"white\",\"linecolor\":\"white\",\"showbackground\":true,\"ticks\":\"\",\"zerolinecolor\":\"white\",\"gridwidth\":2}},\"shapedefaults\":{\"line\":{\"color\":\"#2a3f5f\"}},\"annotationdefaults\":{\"arrowcolor\":\"#2a3f5f\",\"arrowhead\":0,\"arrowwidth\":1},\"geo\":{\"bgcolor\":\"white\",\"landcolor\":\"#E5ECF6\",\"subunitcolor\":\"white\",\"showland\":true,\"showlakes\":true,\"lakecolor\":\"white\"},\"title\":{\"x\":0.05},\"mapbox\":{\"style\":\"light\"}}},\"xaxis\":{\"anchor\":\"y\",\"domain\":[0.0,1.0],\"title\":{\"text\":\"Avg_Daily_Usage_Hours\"}},\"yaxis\":{\"anchor\":\"x\",\"domain\":[0.0,1.0],\"title\":{\"text\":\"Addicted_Score\"}},\"legend\":{\"title\":{\"text\":\"Gender\"},\"tracegroupgap\":0},\"title\":{\"text\":\"Daily Usage vs Addiction Score by Gender\"}},                        {\"responsive\": true}                    ).then(function(){\n",
              "                            \n",
              "var gd = document.getElementById('1ad6d97a-59f5-4a42-b31b-c48a2cbe0ba2');\n",
              "var x = new MutationObserver(function (mutations, observer) {{\n",
              "        var display = window.getComputedStyle(gd).display;\n",
              "        if (!display || display === 'none') {{\n",
              "            console.log([gd, 'removed!']);\n",
              "            Plotly.purge(gd);\n",
              "            observer.disconnect();\n",
              "        }}\n",
              "}});\n",
              "\n",
              "// Listen for the removal of the full notebook cells\n",
              "var notebookContainer = gd.closest('#notebook-container');\n",
              "if (notebookContainer) {{\n",
              "    x.observe(notebookContainer, {childList: true});\n",
              "}}\n",
              "\n",
              "// Listen for the clearing of the current output cell\n",
              "var outputEl = gd.closest('.output');\n",
              "if (outputEl) {{\n",
              "    x.observe(outputEl, {childList: true});\n",
              "}}\n",
              "\n",
              "                        })                };                            </script>        </div>\n",
              "</body>\n",
              "</html>"
            ]
          },
          "metadata": {}
        }
      ]
    }
  ]
}